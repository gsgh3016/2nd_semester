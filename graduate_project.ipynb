version https://git-lfs.github.com/spec/v1
oid sha256:6b1177aed26922846e2c7d023158fa440d6c3a8d727dc8f63865f9e3942c1992
size 24985826
